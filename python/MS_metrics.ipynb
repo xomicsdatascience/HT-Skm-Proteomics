{
 "cells": [
  {
   "cell_type": "code",
   "execution_count": 2,
   "id": "8c39ea77-cdf9-40f2-921d-f41d247e24d6",
   "metadata": {},
   "outputs": [],
   "source": [
    "import numpy as np\n",
    "import pandas as pd\n",
    "import matplotlib.pyplot as plt\n",
    "import pickle"
   ]
  },
  {
   "cell_type": "code",
   "execution_count": 3,
   "id": "de60d867-17a7-4caa-b4dc-03af1b7f0244",
   "metadata": {},
   "outputs": [],
   "source": [
    "#read in DIA-NN pr matrix\n",
    "p = pd.read_table(r'C:\\\\Users\\\\momenzadeha\\\\Documents\\DIA-NN\\outputs\\libfreelib\\libfreelib.tsv')"
   ]
  },
  {
   "cell_type": "code",
   "execution_count": 4,
   "id": "b64452d0-af45-4de8-9f61-f5616c317a7e",
   "metadata": {},
   "outputs": [],
   "source": [
    "# make df of precursor Ids and retention times\n",
    "p_trunc=p[['Precursor.Id','RT']]"
   ]
  },
  {
   "cell_type": "code",
   "execution_count": 5,
   "id": "56392db0-ea61-4190-95c3-df62ef9da31e",
   "metadata": {},
   "outputs": [],
   "source": [
    "p_trunc=p.rename(columns={'Precursor.Id': 'Precursor_Id'})"
   ]
  },
  {
   "cell_type": "code",
   "execution_count": 63,
   "id": "706f085b-a46e-4d19-85c5-2ed5c4b4a1aa",
   "metadata": {
    "tags": []
   },
   "outputs": [
    {
     "data": {
      "text/plain": [
       "'i=0\\nRT_mean = []\\nRT_SD = []\\nfor x in p_trunc.Precursor_Id.unique():\\n    RT_mean.append(p_trunc[(p_trunc.Precursor_Id==x)].RT.mean())\\n    RT_SD.append(p_trunc[(p_trunc.Precursor_Id==x)].RT.std())\\n    i+=1\\n    if i % 100==0: \\n        print(i)'"
      ]
     },
     "execution_count": 63,
     "metadata": {},
     "output_type": "execute_result"
    }
   ],
   "source": [
    "# loop through precursor ids and save RT mean and SD for each\n",
    "i=0\n",
    "RT_mean = []\n",
    "RT_SD = []\n",
    "for x in p_trunc.Precursor_Id.unique():\n",
    "    RT_mean.append(p_trunc[(p_trunc.Precursor_Id==x)].RT.mean())\n",
    "    RT_SD.append(p_trunc[(p_trunc.Precursor_Id==x)].RT.std())\n",
    "    i+=1\n",
    "    if i % 100==0: \n",
    "        print(i)"
   ]
  },
  {
   "cell_type": "code",
   "execution_count": 12,
   "id": "e81e8d1e-ac27-42c3-9e8b-27762849ff9a",
   "metadata": {},
   "outputs": [],
   "source": [
    "with open(r'/Users/momenzadeha/Documents/DIA-NN/RT_mean.pkl', 'wb') as handle:\n",
    "    pickle.dump(RT_mean, handle, protocol=pickle.HIGHEST_PROTOCOL)"
   ]
  },
  {
   "cell_type": "code",
   "execution_count": 13,
   "id": "5f9330a2-7f99-486e-bfc1-b18d9a9562eb",
   "metadata": {},
   "outputs": [],
   "source": [
    "with open(r'/Users/momenzadeha/Documents/DIA-NN/RT_SD.pkl', 'wb') as handle:\n",
    "    pickle.dump(RT_SD, handle, protocol=pickle.HIGHEST_PROTOCOL)"
   ]
  },
  {
   "cell_type": "code",
   "execution_count": 14,
   "id": "14a2c2cc-c6ad-4f4d-9739-54aca1613d6e",
   "metadata": {},
   "outputs": [],
   "source": [
    "p_mean_SD = pd.DataFrame(data=p_trunc.Precursor_Id.unique().tolist())"
   ]
  },
  {
   "cell_type": "code",
   "execution_count": 15,
   "id": "b56bf635-986e-4e72-a242-921b8dd227b4",
   "metadata": {},
   "outputs": [],
   "source": [
    "p_mean_SD['RT_SD']=RT_SD"
   ]
  },
  {
   "cell_type": "code",
   "execution_count": 16,
   "id": "e522de66-41e2-4d78-af4b-c21c51b968f7",
   "metadata": {},
   "outputs": [],
   "source": [
    "p_mean_SD['RT_mean']=RT_mean"
   ]
  },
  {
   "cell_type": "code",
   "execution_count": 19,
   "id": "8ccf63e7-2673-40b5-b76b-489a85cd0f55",
   "metadata": {},
   "outputs": [],
   "source": [
    "p_mean_SD=pd.DataFrame.from_dict(p_mean_SD).rename(columns={0:'Prec_Id'})"
   ]
  },
  {
   "cell_type": "code",
   "execution_count": 299,
   "id": "bd0fcdf9-ac87-460c-bdfc-fcb716b41668",
   "metadata": {},
   "outputs": [],
   "source": [
    "p_mean_SD_c=p_mean_SD.copy()"
   ]
  },
  {
   "cell_type": "code",
   "execution_count": null,
   "id": "0360bdb4-5e83-4aa6-b5c4-bc19ad1f914f",
   "metadata": {},
   "outputs": [],
   "source": [
    "# bin RT means"
   ]
  },
  {
   "cell_type": "code",
   "execution_count": 300,
   "id": "504576eb-3c31-432d-9c55-d728e660af19",
   "metadata": {},
   "outputs": [],
   "source": [
    "p_mean_SD_c.loc[(p_mean_SD_c['RT_mean'] >=0) & (p_mean_SD_c['RT_mean'] <= 1), 'RT_mean'] = 1"
   ]
  },
  {
   "cell_type": "code",
   "execution_count": 301,
   "id": "c6f9b683-08ac-41c4-ba64-482d0314ea1e",
   "metadata": {},
   "outputs": [],
   "source": [
    "p_mean_SD_c.loc[(p_mean_SD_c['RT_mean'] >1) & (p_mean_SD_c['RT_mean'] <= 2), 'RT_mean'] = 2"
   ]
  },
  {
   "cell_type": "code",
   "execution_count": 302,
   "id": "57bdfa8e-0462-44bb-ab84-c95ad8264722",
   "metadata": {},
   "outputs": [],
   "source": [
    "p_mean_SD_c.loc[(p_mean_SD_c['RT_mean'] >2) & (p_mean_SD_c['RT_mean'] <= 3), 'RT_mean'] = 3"
   ]
  },
  {
   "cell_type": "code",
   "execution_count": 303,
   "id": "53d804cd-4197-491b-80b9-204a10948350",
   "metadata": {},
   "outputs": [],
   "source": [
    "p_mean_SD_c.loc[(p_mean_SD_c['RT_mean'] >3) & (p_mean_SD_c['RT_mean'] <= 4), 'RT_mean'] = 4"
   ]
  },
  {
   "cell_type": "code",
   "execution_count": 304,
   "id": "257001a3-8d02-4f61-9a19-cdce5154f727",
   "metadata": {},
   "outputs": [],
   "source": [
    "p_mean_SD_c.loc[(p_mean_SD_c['RT_mean'] >4) & (p_mean_SD_c['RT_mean'] <= 5), 'RT_mean'] = 5"
   ]
  },
  {
   "cell_type": "code",
   "execution_count": 305,
   "id": "cc574413-8d14-430b-b885-b6e0f0d402c0",
   "metadata": {},
   "outputs": [],
   "source": [
    "p_mean_SD_c.loc[(p_mean_SD_c['RT_mean'] >5) & (p_mean_SD_c['RT_mean'] <= 6), 'RT_mean'] = 6"
   ]
  },
  {
   "cell_type": "code",
   "execution_count": 306,
   "id": "3b497ee6-f803-4ad5-b3dc-bd1a0697b2fd",
   "metadata": {},
   "outputs": [],
   "source": [
    "p_mean_SD_c.loc[(p_mean_SD_c['RT_mean'] >6) & (p_mean_SD_c['RT_mean'] <= 7), 'RT_mean'] = 7"
   ]
  },
  {
   "cell_type": "code",
   "execution_count": 307,
   "id": "d501d001-3214-4a6c-86ec-4e961d80221a",
   "metadata": {},
   "outputs": [],
   "source": [
    "p_mean_SD_c.loc[(p_mean_SD_c['RT_mean'] >7) & (p_mean_SD_c['RT_mean'] <= 8), 'RT_mean'] = 8"
   ]
  },
  {
   "cell_type": "code",
   "execution_count": 308,
   "id": "57965306-e86d-4b09-9f4a-e08218232e78",
   "metadata": {},
   "outputs": [],
   "source": [
    "p_mean_SD_c.loc[(p_mean_SD_c['RT_mean'] >8) & (p_mean_SD_c['RT_mean'] <= 9), 'RT_mean'] = 9"
   ]
  },
  {
   "cell_type": "code",
   "execution_count": 309,
   "id": "d0489cc8-ac00-4151-9f60-058d33220585",
   "metadata": {},
   "outputs": [],
   "source": [
    "p_mean_SD_c.loc[(p_mean_SD_c['RT_mean'] >9) & (p_mean_SD_c['RT_mean'] <= 10), 'RT_mean'] = 10"
   ]
  },
  {
   "cell_type": "code",
   "execution_count": 310,
   "id": "1d20eaaa-3bbe-4d1a-82e8-7aa7014d5f3d",
   "metadata": {},
   "outputs": [],
   "source": [
    "p_mean_SD_c.loc[(p_mean_SD_c['RT_mean'] >10) & (p_mean_SD_c['RT_mean'] <= 11), 'RT_mean'] = 11"
   ]
  },
  {
   "cell_type": "code",
   "execution_count": 311,
   "id": "f9fa7a28-7f7f-4613-ad61-cc3552910019",
   "metadata": {},
   "outputs": [],
   "source": [
    "p_mean_SD_c.loc[(p_mean_SD_c['RT_mean'] >11) & (p_mean_SD_c['RT_mean'] <= 12), 'RT_mean'] = 12"
   ]
  },
  {
   "cell_type": "code",
   "execution_count": 312,
   "id": "977f714e-fe85-4194-81f5-b4d0435122b7",
   "metadata": {},
   "outputs": [],
   "source": [
    "p_mean_SD_c.loc[(p_mean_SD_c['RT_mean'] >12) & (p_mean_SD_c['RT_mean'] <= 13), 'RT_mean'] = 13"
   ]
  },
  {
   "cell_type": "code",
   "execution_count": 313,
   "id": "fbd33405-25ab-4580-88ee-1f3ec7902be5",
   "metadata": {},
   "outputs": [],
   "source": [
    "p_mean_SD_c.loc[(p_mean_SD_c['RT_mean'] >13) & (p_mean_SD_c['RT_mean'] <= 14), 'RT_mean'] = 14"
   ]
  },
  {
   "cell_type": "code",
   "execution_count": 314,
   "id": "1610cbbb-5a36-427b-8b2f-ef5b3e7eeec7",
   "metadata": {},
   "outputs": [],
   "source": [
    "p_mean_SD_c.loc[(p_mean_SD_c['RT_mean'] >14) & (p_mean_SD_c['RT_mean'] <= 15), 'RT_mean'] = 15"
   ]
  },
  {
   "cell_type": "code",
   "execution_count": 316,
   "id": "dec532ad-402c-4afa-84d9-9921575cede0",
   "metadata": {},
   "outputs": [],
   "source": [
    "p_mean_SD_c.rename(columns={'RT_mean':'RT_mean_binned'},inplace=True)"
   ]
  },
  {
   "cell_type": "code",
   "execution_count": 317,
   "id": "fe699846-5c3e-451e-bdd4-0d571e16d96b",
   "metadata": {},
   "outputs": [
    {
     "data": {
      "text/plain": [
       "0"
      ]
     },
     "execution_count": 317,
     "metadata": {},
     "output_type": "execute_result"
    }
   ],
   "source": [
    "len(p_mean_SD_c[(p_mean_SD_c.RT_mean_binned==1.0)])"
   ]
  },
  {
   "cell_type": "code",
   "execution_count": 318,
   "id": "093da04a-9b8b-405f-9395-552452963a52",
   "metadata": {},
   "outputs": [],
   "source": [
    "bin1 = [\"0\"]*0"
   ]
  },
  {
   "cell_type": "code",
   "execution_count": 319,
   "id": "d4aae1d4-a78b-49e6-8b9c-ebddd97d35ad",
   "metadata": {},
   "outputs": [],
   "source": [
    "bin1_comp=p_mean_SD_c[(p_mean_SD_c.RT_mean_binned==1.0)]"
   ]
  },
  {
   "cell_type": "code",
   "execution_count": 320,
   "id": "869d88cd-af65-4a21-a1fd-3263936ba855",
   "metadata": {},
   "outputs": [],
   "source": [
    "bin1_comp['rank']=bin1"
   ]
  },
  {
   "cell_type": "code",
   "execution_count": 321,
   "id": "72df4a9c-8876-4cbe-8a2a-5ec5a613a7f5",
   "metadata": {},
   "outputs": [
    {
     "data": {
      "text/plain": [
       "0"
      ]
     },
     "execution_count": 321,
     "metadata": {},
     "output_type": "execute_result"
    }
   ],
   "source": [
    "len(p_mean_SD_c[(p_mean_SD_c.RT_mean_binned==2.0)])"
   ]
  },
  {
   "cell_type": "code",
   "execution_count": 322,
   "id": "8feb34b6-8826-4549-9bbd-839fd7a95bf3",
   "metadata": {},
   "outputs": [],
   "source": [
    "bin2 = [\"0\"]*0"
   ]
  },
  {
   "cell_type": "code",
   "execution_count": 323,
   "id": "b40af671-568d-4edc-a7c6-6b76fa038836",
   "metadata": {},
   "outputs": [],
   "source": [
    "bin2_comp=p_mean_SD_c[(p_mean_SD_c.RT_mean_binned==2.0)]"
   ]
  },
  {
   "cell_type": "code",
   "execution_count": 324,
   "id": "88d34540-3b2b-4c2b-be8a-74aa059ce199",
   "metadata": {},
   "outputs": [],
   "source": [
    "bin2_comp['rank']=bin2"
   ]
  },
  {
   "cell_type": "code",
   "execution_count": 325,
   "id": "5f8b9956-6971-4310-bc1f-ab822d134908",
   "metadata": {},
   "outputs": [
    {
     "data": {
      "text/plain": [
       "96"
      ]
     },
     "execution_count": 325,
     "metadata": {},
     "output_type": "execute_result"
    }
   ],
   "source": [
    "len(p_mean_SD_c[(p_mean_SD_c.RT_mean_binned==3.0)])"
   ]
  },
  {
   "cell_type": "code",
   "execution_count": 326,
   "id": "36370f5e-4990-4278-9293-daa83f655e6f",
   "metadata": {},
   "outputs": [],
   "source": [
    "bin3_comp=p_mean_SD_c[(p_mean_SD_c.RT_mean_binned==3.0)]"
   ]
  },
  {
   "cell_type": "code",
   "execution_count": 327,
   "id": "82072b87-0cac-474b-b4ba-775902e85549",
   "metadata": {},
   "outputs": [],
   "source": [
    "bin3 = [\"96\"]*96"
   ]
  },
  {
   "cell_type": "code",
   "execution_count": 328,
   "id": "82091bd9-8f9a-4abf-8657-96b25da02a94",
   "metadata": {},
   "outputs": [
    {
     "name": "stderr",
     "output_type": "stream",
     "text": [
      "C:\\Users\\momenzadeha\\AppData\\Local\\Temp\\ipykernel_34452\\2091933575.py:1: SettingWithCopyWarning: \n",
      "A value is trying to be set on a copy of a slice from a DataFrame.\n",
      "Try using .loc[row_indexer,col_indexer] = value instead\n",
      "\n",
      "See the caveats in the documentation: https://pandas.pydata.org/pandas-docs/stable/user_guide/indexing.html#returning-a-view-versus-a-copy\n",
      "  bin3_comp['rank']=bin3\n"
     ]
    }
   ],
   "source": [
    "bin3_comp['rank']=bin3"
   ]
  },
  {
   "cell_type": "code",
   "execution_count": 329,
   "id": "7c3826c4-0a17-4fe7-9b79-c902ac1e08d9",
   "metadata": {
    "tags": []
   },
   "outputs": [
    {
     "data": {
      "text/plain": [
       "1006"
      ]
     },
     "execution_count": 329,
     "metadata": {},
     "output_type": "execute_result"
    }
   ],
   "source": [
    "len(p_mean_SD_c[(p_mean_SD_c.RT_mean_binned==4.0)])"
   ]
  },
  {
   "cell_type": "code",
   "execution_count": 330,
   "id": "e4aa23ca-d29f-4115-ba71-5044ca9c6a9b",
   "metadata": {},
   "outputs": [],
   "source": [
    "bin4_comp=p_mean_SD_c[(p_mean_SD_c.RT_mean_binned==4.0)]"
   ]
  },
  {
   "cell_type": "code",
   "execution_count": 331,
   "id": "9f04f0e4-811b-4a6d-828e-d9f515ad6438",
   "metadata": {},
   "outputs": [],
   "source": [
    "bin4 = [\"1006\"]*1006"
   ]
  },
  {
   "cell_type": "code",
   "execution_count": 332,
   "id": "5c1b4d52-bda8-4598-b285-acad00ef3cb1",
   "metadata": {},
   "outputs": [
    {
     "name": "stderr",
     "output_type": "stream",
     "text": [
      "C:\\Users\\momenzadeha\\AppData\\Local\\Temp\\ipykernel_34452\\11646837.py:1: SettingWithCopyWarning: \n",
      "A value is trying to be set on a copy of a slice from a DataFrame.\n",
      "Try using .loc[row_indexer,col_indexer] = value instead\n",
      "\n",
      "See the caveats in the documentation: https://pandas.pydata.org/pandas-docs/stable/user_guide/indexing.html#returning-a-view-versus-a-copy\n",
      "  bin4_comp['rank']=bin4\n"
     ]
    }
   ],
   "source": [
    "bin4_comp['rank']=bin4"
   ]
  },
  {
   "cell_type": "code",
   "execution_count": 333,
   "id": "97c264c3-da00-4e4d-adf7-ad339f29cf71",
   "metadata": {},
   "outputs": [
    {
     "data": {
      "text/plain": [
       "816"
      ]
     },
     "execution_count": 333,
     "metadata": {},
     "output_type": "execute_result"
    }
   ],
   "source": [
    "len(p_mean_SD_c[(p_mean_SD_c.RT_mean_binned==5.0)])"
   ]
  },
  {
   "cell_type": "code",
   "execution_count": 334,
   "id": "a0673de2-376d-428b-8b34-f1f95338936f",
   "metadata": {},
   "outputs": [],
   "source": [
    "bin5_comp=p_mean_SD_c[(p_mean_SD_c.RT_mean_binned==5.0)]"
   ]
  },
  {
   "cell_type": "code",
   "execution_count": 335,
   "id": "74c1b1c6-b7c8-454b-9852-6fdeed626e1a",
   "metadata": {},
   "outputs": [],
   "source": [
    "bin5 = [\"816\"]*816"
   ]
  },
  {
   "cell_type": "code",
   "execution_count": 336,
   "id": "47c68298-08dc-4814-a561-689b2352e7d4",
   "metadata": {},
   "outputs": [
    {
     "name": "stderr",
     "output_type": "stream",
     "text": [
      "C:\\Users\\momenzadeha\\AppData\\Local\\Temp\\ipykernel_34452\\1410452892.py:1: SettingWithCopyWarning: \n",
      "A value is trying to be set on a copy of a slice from a DataFrame.\n",
      "Try using .loc[row_indexer,col_indexer] = value instead\n",
      "\n",
      "See the caveats in the documentation: https://pandas.pydata.org/pandas-docs/stable/user_guide/indexing.html#returning-a-view-versus-a-copy\n",
      "  bin5_comp['rank']=bin5\n"
     ]
    }
   ],
   "source": [
    "bin5_comp['rank']=bin5"
   ]
  },
  {
   "cell_type": "code",
   "execution_count": 337,
   "id": "4bf44ad7-a6e1-4cbc-b071-88a9c1abc908",
   "metadata": {},
   "outputs": [
    {
     "data": {
      "text/plain": [
       "885"
      ]
     },
     "execution_count": 337,
     "metadata": {},
     "output_type": "execute_result"
    }
   ],
   "source": [
    "len(p_mean_SD_c[(p_mean_SD_c.RT_mean_binned==6.0)])"
   ]
  },
  {
   "cell_type": "code",
   "execution_count": 338,
   "id": "ca01af4b-a09c-4fe2-8bbe-0af0408b5ee7",
   "metadata": {},
   "outputs": [],
   "source": [
    "bin6_comp=p_mean_SD_c[(p_mean_SD_c.RT_mean_binned==6.0)]"
   ]
  },
  {
   "cell_type": "code",
   "execution_count": 339,
   "id": "39c7b65a-21bf-4995-b280-b2b4427657b6",
   "metadata": {},
   "outputs": [],
   "source": [
    "bin6 = [\"885\"]*885"
   ]
  },
  {
   "cell_type": "code",
   "execution_count": 340,
   "id": "ffa1d3e4-cb7b-4ed4-8fe1-992299506b56",
   "metadata": {},
   "outputs": [
    {
     "name": "stderr",
     "output_type": "stream",
     "text": [
      "C:\\Users\\momenzadeha\\AppData\\Local\\Temp\\ipykernel_34452\\3952938580.py:1: SettingWithCopyWarning: \n",
      "A value is trying to be set on a copy of a slice from a DataFrame.\n",
      "Try using .loc[row_indexer,col_indexer] = value instead\n",
      "\n",
      "See the caveats in the documentation: https://pandas.pydata.org/pandas-docs/stable/user_guide/indexing.html#returning-a-view-versus-a-copy\n",
      "  bin6_comp['rank']=bin6\n"
     ]
    }
   ],
   "source": [
    "bin6_comp['rank']=bin6"
   ]
  },
  {
   "cell_type": "code",
   "execution_count": 341,
   "id": "b83a7ac3-05de-40ce-92a5-d514045f69a2",
   "metadata": {},
   "outputs": [
    {
     "data": {
      "text/plain": [
       "962"
      ]
     },
     "execution_count": 341,
     "metadata": {},
     "output_type": "execute_result"
    }
   ],
   "source": [
    "len(p_mean_SD_c[(p_mean_SD_c.RT_mean_binned==7.0)])"
   ]
  },
  {
   "cell_type": "code",
   "execution_count": 342,
   "id": "5aa5a2a1-d386-4669-ba9b-e0f6965beb2b",
   "metadata": {},
   "outputs": [],
   "source": [
    "bin7_comp=p_mean_SD_c[(p_mean_SD_c.RT_mean_binned==7.0)]"
   ]
  },
  {
   "cell_type": "code",
   "execution_count": 343,
   "id": "6e8c8bb8-da7c-46e2-83bd-a2c50735cfbc",
   "metadata": {},
   "outputs": [],
   "source": [
    "bin7 = [\"962\"]*962"
   ]
  },
  {
   "cell_type": "code",
   "execution_count": 344,
   "id": "c7f9b10f-c4c7-4a7d-b4ff-cfb5fd349f64",
   "metadata": {},
   "outputs": [
    {
     "name": "stderr",
     "output_type": "stream",
     "text": [
      "C:\\Users\\momenzadeha\\AppData\\Local\\Temp\\ipykernel_34452\\2075639345.py:1: SettingWithCopyWarning: \n",
      "A value is trying to be set on a copy of a slice from a DataFrame.\n",
      "Try using .loc[row_indexer,col_indexer] = value instead\n",
      "\n",
      "See the caveats in the documentation: https://pandas.pydata.org/pandas-docs/stable/user_guide/indexing.html#returning-a-view-versus-a-copy\n",
      "  bin7_comp['rank']=bin7\n"
     ]
    }
   ],
   "source": [
    "bin7_comp['rank']=bin7"
   ]
  },
  {
   "cell_type": "code",
   "execution_count": 345,
   "id": "5526ec28-e515-4486-bf1e-c2cfee8ab629",
   "metadata": {},
   "outputs": [
    {
     "data": {
      "text/plain": [
       "915"
      ]
     },
     "execution_count": 345,
     "metadata": {},
     "output_type": "execute_result"
    }
   ],
   "source": [
    "len(p_mean_SD_c[(p_mean_SD_c.RT_mean_binned==8.0)])"
   ]
  },
  {
   "cell_type": "code",
   "execution_count": 346,
   "id": "5c52a56a-942f-4da0-9661-dd797eae0d43",
   "metadata": {},
   "outputs": [],
   "source": [
    "bin8_comp=p_mean_SD_c[(p_mean_SD_c.RT_mean_binned==8.0)]"
   ]
  },
  {
   "cell_type": "code",
   "execution_count": 347,
   "id": "db2da408-60c7-411b-a6bb-99b5e3886c0a",
   "metadata": {},
   "outputs": [],
   "source": [
    "bin8 = [\"915\"]*915"
   ]
  },
  {
   "cell_type": "code",
   "execution_count": 348,
   "id": "726f594e-ae98-4dce-8a04-901081cc8e26",
   "metadata": {},
   "outputs": [
    {
     "name": "stderr",
     "output_type": "stream",
     "text": [
      "C:\\Users\\momenzadeha\\AppData\\Local\\Temp\\ipykernel_34452\\3134334408.py:1: SettingWithCopyWarning: \n",
      "A value is trying to be set on a copy of a slice from a DataFrame.\n",
      "Try using .loc[row_indexer,col_indexer] = value instead\n",
      "\n",
      "See the caveats in the documentation: https://pandas.pydata.org/pandas-docs/stable/user_guide/indexing.html#returning-a-view-versus-a-copy\n",
      "  bin8_comp['rank']=bin8\n"
     ]
    }
   ],
   "source": [
    "bin8_comp['rank']=bin8"
   ]
  },
  {
   "cell_type": "code",
   "execution_count": 349,
   "id": "f13e4296-cca1-4e9d-a610-dfdbbca1ffe1",
   "metadata": {},
   "outputs": [
    {
     "data": {
      "text/plain": [
       "968"
      ]
     },
     "execution_count": 349,
     "metadata": {},
     "output_type": "execute_result"
    }
   ],
   "source": [
    "len(p_mean_SD_c[(p_mean_SD_c.RT_mean_binned==9.0)])"
   ]
  },
  {
   "cell_type": "code",
   "execution_count": 350,
   "id": "5f314047-6ea0-442a-98cc-826cfad50efa",
   "metadata": {},
   "outputs": [],
   "source": [
    "bin9_comp=p_mean_SD_c[(p_mean_SD_c.RT_mean_binned==9.0)]"
   ]
  },
  {
   "cell_type": "code",
   "execution_count": 351,
   "id": "fbc4a94f-f98c-42f6-80ca-1ad917236856",
   "metadata": {},
   "outputs": [],
   "source": [
    "bin9 = [\"968\"]*968"
   ]
  },
  {
   "cell_type": "code",
   "execution_count": 352,
   "id": "e030ec00-3e65-41c1-a68e-2f63bd274191",
   "metadata": {},
   "outputs": [
    {
     "name": "stderr",
     "output_type": "stream",
     "text": [
      "C:\\Users\\momenzadeha\\AppData\\Local\\Temp\\ipykernel_34452\\1026974518.py:1: SettingWithCopyWarning: \n",
      "A value is trying to be set on a copy of a slice from a DataFrame.\n",
      "Try using .loc[row_indexer,col_indexer] = value instead\n",
      "\n",
      "See the caveats in the documentation: https://pandas.pydata.org/pandas-docs/stable/user_guide/indexing.html#returning-a-view-versus-a-copy\n",
      "  bin9_comp['rank']=bin9\n"
     ]
    }
   ],
   "source": [
    "bin9_comp['rank']=bin9"
   ]
  },
  {
   "cell_type": "code",
   "execution_count": 353,
   "id": "a2ac4269-40f0-485d-a7cd-a2e5a95e04a0",
   "metadata": {},
   "outputs": [
    {
     "data": {
      "text/plain": [
       "932"
      ]
     },
     "execution_count": 353,
     "metadata": {},
     "output_type": "execute_result"
    }
   ],
   "source": [
    "len(p_mean_SD_c[(p_mean_SD_c.RT_mean_binned==10.0)])"
   ]
  },
  {
   "cell_type": "code",
   "execution_count": 354,
   "id": "ba0111e5-e2db-4b3a-bbd9-4139810efd01",
   "metadata": {},
   "outputs": [],
   "source": [
    "bin10_comp=p_mean_SD_c[(p_mean_SD_c.RT_mean_binned==10.0)]"
   ]
  },
  {
   "cell_type": "code",
   "execution_count": 355,
   "id": "24ac9951-6beb-4ca7-b7da-e7739d829cab",
   "metadata": {},
   "outputs": [],
   "source": [
    "bin10 = [\"932\"]*932"
   ]
  },
  {
   "cell_type": "code",
   "execution_count": 356,
   "id": "50351cf9-a8b9-4de4-8fcf-bcc9c7e35dc3",
   "metadata": {},
   "outputs": [
    {
     "name": "stderr",
     "output_type": "stream",
     "text": [
      "C:\\Users\\momenzadeha\\AppData\\Local\\Temp\\ipykernel_34452\\3678316883.py:1: SettingWithCopyWarning: \n",
      "A value is trying to be set on a copy of a slice from a DataFrame.\n",
      "Try using .loc[row_indexer,col_indexer] = value instead\n",
      "\n",
      "See the caveats in the documentation: https://pandas.pydata.org/pandas-docs/stable/user_guide/indexing.html#returning-a-view-versus-a-copy\n",
      "  bin10_comp['rank']=bin10\n"
     ]
    }
   ],
   "source": [
    "bin10_comp['rank']=bin10"
   ]
  },
  {
   "cell_type": "code",
   "execution_count": 357,
   "id": "17fb8c68-aac3-439a-9999-376dbf75898d",
   "metadata": {},
   "outputs": [
    {
     "data": {
      "text/plain": [
       "883"
      ]
     },
     "execution_count": 357,
     "metadata": {},
     "output_type": "execute_result"
    }
   ],
   "source": [
    "len(p_mean_SD_c[(p_mean_SD_c.RT_mean_binned==11.0)])"
   ]
  },
  {
   "cell_type": "code",
   "execution_count": 358,
   "id": "62d99a63-be3e-4e40-95c4-606ae2b31505",
   "metadata": {},
   "outputs": [],
   "source": [
    "bin11_comp=p_mean_SD_c[(p_mean_SD_c.RT_mean_binned==11.0)]"
   ]
  },
  {
   "cell_type": "code",
   "execution_count": 359,
   "id": "1e44610b-6075-4ddd-a784-8a6d0866f5e1",
   "metadata": {},
   "outputs": [],
   "source": [
    "bin11 = [\"883\"]*883"
   ]
  },
  {
   "cell_type": "code",
   "execution_count": 360,
   "id": "27a3c81f-19a2-4cce-ac7b-864ab79a4335",
   "metadata": {},
   "outputs": [
    {
     "name": "stderr",
     "output_type": "stream",
     "text": [
      "C:\\Users\\momenzadeha\\AppData\\Local\\Temp\\ipykernel_34452\\1958044107.py:1: SettingWithCopyWarning: \n",
      "A value is trying to be set on a copy of a slice from a DataFrame.\n",
      "Try using .loc[row_indexer,col_indexer] = value instead\n",
      "\n",
      "See the caveats in the documentation: https://pandas.pydata.org/pandas-docs/stable/user_guide/indexing.html#returning-a-view-versus-a-copy\n",
      "  bin11_comp['rank']=bin11\n"
     ]
    }
   ],
   "source": [
    "bin11_comp['rank']=bin11"
   ]
  },
  {
   "cell_type": "code",
   "execution_count": 361,
   "id": "a328411d-9de0-427c-a643-ce86f8039f73",
   "metadata": {},
   "outputs": [
    {
     "data": {
      "text/plain": [
       "998"
      ]
     },
     "execution_count": 361,
     "metadata": {},
     "output_type": "execute_result"
    }
   ],
   "source": [
    "len(p_mean_SD_c[(p_mean_SD_c.RT_mean_binned==12.0)])"
   ]
  },
  {
   "cell_type": "code",
   "execution_count": 362,
   "id": "a68f3bff-53d1-4988-a704-260a14dca496",
   "metadata": {},
   "outputs": [],
   "source": [
    "bin12_comp=p_mean_SD_c[(p_mean_SD_c.RT_mean_binned==12.0)]"
   ]
  },
  {
   "cell_type": "code",
   "execution_count": 363,
   "id": "f42d40e7-d24d-4c91-ac2a-55ba97149347",
   "metadata": {},
   "outputs": [],
   "source": [
    "bin12 = [\"998\"]*998"
   ]
  },
  {
   "cell_type": "code",
   "execution_count": 364,
   "id": "138efbc2-793e-4991-a6ef-46a2ff27c808",
   "metadata": {},
   "outputs": [
    {
     "name": "stderr",
     "output_type": "stream",
     "text": [
      "C:\\Users\\momenzadeha\\AppData\\Local\\Temp\\ipykernel_34452\\899840996.py:1: SettingWithCopyWarning: \n",
      "A value is trying to be set on a copy of a slice from a DataFrame.\n",
      "Try using .loc[row_indexer,col_indexer] = value instead\n",
      "\n",
      "See the caveats in the documentation: https://pandas.pydata.org/pandas-docs/stable/user_guide/indexing.html#returning-a-view-versus-a-copy\n",
      "  bin12_comp['rank']=bin12\n"
     ]
    }
   ],
   "source": [
    "bin12_comp['rank']=bin12"
   ]
  },
  {
   "cell_type": "code",
   "execution_count": 365,
   "id": "a1df8b16-28d6-471b-9c35-3abdebbaa89e",
   "metadata": {},
   "outputs": [
    {
     "data": {
      "text/plain": [
       "882"
      ]
     },
     "execution_count": 365,
     "metadata": {},
     "output_type": "execute_result"
    }
   ],
   "source": [
    "len(p_mean_SD_c[(p_mean_SD_c.RT_mean_binned==13.0)])"
   ]
  },
  {
   "cell_type": "code",
   "execution_count": 366,
   "id": "4630454a-8228-43b4-b400-47c6e501519f",
   "metadata": {},
   "outputs": [],
   "source": [
    "bin13_comp=p_mean_SD_c[(p_mean_SD_c.RT_mean_binned==13.0)]"
   ]
  },
  {
   "cell_type": "code",
   "execution_count": 367,
   "id": "1cadecaa-1e09-47a5-a425-ef057963cacd",
   "metadata": {},
   "outputs": [],
   "source": [
    "bin13 = [\"882\"]*882"
   ]
  },
  {
   "cell_type": "code",
   "execution_count": 368,
   "id": "c30165a6-f4fc-41c0-9381-945f6b2be5b0",
   "metadata": {},
   "outputs": [
    {
     "name": "stderr",
     "output_type": "stream",
     "text": [
      "C:\\Users\\momenzadeha\\AppData\\Local\\Temp\\ipykernel_34452\\3417042917.py:1: SettingWithCopyWarning: \n",
      "A value is trying to be set on a copy of a slice from a DataFrame.\n",
      "Try using .loc[row_indexer,col_indexer] = value instead\n",
      "\n",
      "See the caveats in the documentation: https://pandas.pydata.org/pandas-docs/stable/user_guide/indexing.html#returning-a-view-versus-a-copy\n",
      "  bin13_comp['rank']=bin13\n"
     ]
    }
   ],
   "source": [
    "bin13_comp['rank']=bin13"
   ]
  },
  {
   "cell_type": "code",
   "execution_count": 369,
   "id": "97db839c-a2f5-4324-92b2-c56f86714d7a",
   "metadata": {},
   "outputs": [
    {
     "data": {
      "text/plain": [
       "412"
      ]
     },
     "execution_count": 369,
     "metadata": {},
     "output_type": "execute_result"
    }
   ],
   "source": [
    "len(p_mean_SD_c[(p_mean_SD_c.RT_mean_binned==14.0)])"
   ]
  },
  {
   "cell_type": "code",
   "execution_count": 370,
   "id": "2f3f29fe-c2fe-411c-b41d-91cb94fdcc34",
   "metadata": {},
   "outputs": [],
   "source": [
    "bin14_comp=p_mean_SD_c[(p_mean_SD_c.RT_mean_binned==14.0)]"
   ]
  },
  {
   "cell_type": "code",
   "execution_count": 371,
   "id": "2931c6cc-c3d5-43c3-8db3-7a4d8c98c4fd",
   "metadata": {},
   "outputs": [],
   "source": [
    "bin14 = [\"412\"]*412"
   ]
  },
  {
   "cell_type": "code",
   "execution_count": 372,
   "id": "5a15d8c9-e1e8-4903-bcd4-71e90a751d6c",
   "metadata": {},
   "outputs": [
    {
     "name": "stderr",
     "output_type": "stream",
     "text": [
      "C:\\Users\\momenzadeha\\AppData\\Local\\Temp\\ipykernel_34452\\3960340174.py:1: SettingWithCopyWarning: \n",
      "A value is trying to be set on a copy of a slice from a DataFrame.\n",
      "Try using .loc[row_indexer,col_indexer] = value instead\n",
      "\n",
      "See the caveats in the documentation: https://pandas.pydata.org/pandas-docs/stable/user_guide/indexing.html#returning-a-view-versus-a-copy\n",
      "  bin14_comp['rank']=bin14\n"
     ]
    }
   ],
   "source": [
    "bin14_comp['rank']=bin14"
   ]
  },
  {
   "cell_type": "code",
   "execution_count": 373,
   "id": "09f5ead5-33c3-4f25-92b8-3eefeb02a255",
   "metadata": {},
   "outputs": [
    {
     "data": {
      "text/plain": [
       "44"
      ]
     },
     "execution_count": 373,
     "metadata": {},
     "output_type": "execute_result"
    }
   ],
   "source": [
    "len(p_mean_SD_c[(p_mean_SD_c.RT_mean_binned==15.0)])"
   ]
  },
  {
   "cell_type": "code",
   "execution_count": 374,
   "id": "70490bcc-b2b2-4674-bf79-0611cad26bf2",
   "metadata": {},
   "outputs": [],
   "source": [
    "bin15_comp=p_mean_SD_c[(p_mean_SD_c.RT_mean_binned==15.0)]"
   ]
  },
  {
   "cell_type": "code",
   "execution_count": 375,
   "id": "4d103c07-0430-41ce-a5fd-999fdc0d524e",
   "metadata": {},
   "outputs": [],
   "source": [
    "bin15 = [\"44\"]*44"
   ]
  },
  {
   "cell_type": "code",
   "execution_count": 376,
   "id": "d9d8a736-dbdc-4320-9e1e-4d831865ab09",
   "metadata": {},
   "outputs": [
    {
     "name": "stderr",
     "output_type": "stream",
     "text": [
      "C:\\Users\\momenzadeha\\AppData\\Local\\Temp\\ipykernel_34452\\3461387892.py:1: SettingWithCopyWarning: \n",
      "A value is trying to be set on a copy of a slice from a DataFrame.\n",
      "Try using .loc[row_indexer,col_indexer] = value instead\n",
      "\n",
      "See the caveats in the documentation: https://pandas.pydata.org/pandas-docs/stable/user_guide/indexing.html#returning-a-view-versus-a-copy\n",
      "  bin15_comp['rank']=bin15\n"
     ]
    }
   ],
   "source": [
    "bin15_comp['rank']=bin15"
   ]
  },
  {
   "cell_type": "code",
   "execution_count": 426,
   "id": "e7d2b5a4-bfbd-47e6-a12b-d7d9dae4e2bd",
   "metadata": {},
   "outputs": [],
   "source": [
    "vertical_concat = pd.concat([bin1_comp,bin2_comp,bin3_comp, bin4_comp, bin5_comp,bin6_comp,\n",
    "                            bin7_comp,bin8_comp,bin9_comp,bin10_comp,bin11_comp,bin12_comp,bin13_comp,\n",
    "                            bin14_comp,bin15_comp], axis=0)"
   ]
  },
  {
   "cell_type": "code",
   "execution_count": 427,
   "id": "3043551c-671c-4464-a66d-2e44f9e909ce",
   "metadata": {},
   "outputs": [],
   "source": [
    "vertical_concat['rank'] = pd.to_numeric(vertical_concat['rank'])"
   ]
  },
  {
   "cell_type": "code",
   "execution_count": 428,
   "id": "defa7a3f-d5f5-4875-9114-88b2657a4153",
   "metadata": {},
   "outputs": [
    {
     "data": {
      "text/plain": [
       "array([ 3.,  4.,  5.,  6.,  7.,  8.,  9., 10., 11., 12., 13., 14., 15.])"
      ]
     },
     "execution_count": 428,
     "metadata": {},
     "output_type": "execute_result"
    }
   ],
   "source": [
    "vertical_concat['RT_mean_binned'].unique()"
   ]
  },
  {
   "cell_type": "code",
   "execution_count": 429,
   "id": "733461e2-fa0e-40cf-89eb-0d0a5c658f96",
   "metadata": {},
   "outputs": [],
   "source": [
    "vertical_concat.rename(columns={'rank':'No_Peptides'},inplace=True)"
   ]
  },
  {
   "cell_type": "code",
   "execution_count": 430,
   "id": "0ff82013-31ba-4c87-ba42-5efec1c8bf44",
   "metadata": {},
   "outputs": [],
   "source": [
    "vertical_concat['RT_mean_binned'] = vertical_concat['RT_mean_binned'].fillna(0).astype(int)"
   ]
  },
  {
   "cell_type": "code",
   "execution_count": 431,
   "id": "9d9844de-77e0-4547-9c29-bdb3a40168ce",
   "metadata": {},
   "outputs": [
    {
     "data": {
      "text/plain": [
       "array([ 3,  4,  5,  6,  7,  8,  9, 10, 11, 12, 13, 14, 15])"
      ]
     },
     "execution_count": 431,
     "metadata": {},
     "output_type": "execute_result"
    }
   ],
   "source": [
    "vertical_concat['RT_mean_binned'].unique()"
   ]
  },
  {
   "cell_type": "code",
   "execution_count": 573,
   "id": "c4ae44d6-bafe-4bfc-a838-b63d8b648969",
   "metadata": {},
   "outputs": [
    {
     "data": {
      "image/png": "[encoded data removed]",
      "text/plain": [
       "<Figure size 216x216 with 1 Axes>"
      ]
     },
     "metadata": {
      "needs_background": "light"
     },
     "output_type": "display_data"
    }
   ],
   "source": [
    "# plot number peptides per binned mean RT\n",
    "plt.rcParams['figure.figsize']=3,3\n",
    "sns.lineplot(data=vertical_concat, x=\"RT_mean_binned\", y=\"No_Peptides\",linewidth=4)\n",
    "plt.xticks(np.arange(3, 16,2))\n",
    "plt.xticks(fontsize=17)\n",
    "plt.yticks(fontsize=20)\n",
    "plt.ylabel('# Peptides', fontsize=25)\n",
    "plt.xlabel('Binned Mean RT (min)', fontsize=20)\n",
    "\n",
    "\n",
    "plt.savefig('plots/1E.svg',bbox_inches='tight')"
   ]
  },
  {
   "cell_type": "code",
   "execution_count": 434,
   "id": "2c87a173-8737-41c4-a3d5-7219c4fa43dc",
   "metadata": {},
   "outputs": [],
   "source": [
    "cmap=sns.cubehelix_palette(as_cmap=True)\n",
    "\n",
    "c1 = cmap(0.0)\n",
    "c2 = cmap(0.2)\n",
    "c3 = cmap(0.3)\n",
    "c4 = cmap(0.4)\n",
    "c5 = cmap(0.45)\n",
    "c6 = cmap(0.5)\n",
    "c7 = cmap(0.55)\n",
    "c8 = cmap(0.6)\n",
    "c9 = cmap(0.65)\n",
    "c10 = cmap(0.7)\n",
    "c11 = cmap(0.75)\n",
    "c12 = cmap(0.85)\n",
    "c13 = cmap(0.95)\n",
    "c14 = cmap(1.0)"
   ]
  },
  {
   "cell_type": "code",
   "execution_count": 435,
   "id": "43d0eb53-359c-42eb-8382-4c0eb5bc6fb3",
   "metadata": {},
   "outputs": [],
   "source": [
    "no_pep_list=vertical_concat['No_Peptides'].unique()"
   ]
  },
  {
   "cell_type": "code",
   "execution_count": 513,
   "id": "ae3952f3-cf00-4cbd-a98f-f023faed07d1",
   "metadata": {},
   "outputs": [
    {
     "data": {
      "image/png": "[encoded data removed]",
      "text/plain": [
       "<Figure size 360x360 with 1 Axes>"
      ]
     },
     "metadata": {
      "needs_background": "light"
     },
     "output_type": "display_data"
    }
   ],
   "source": [
    "# RT SD's across binned mean RTs \n",
    "plt.rcParams['figure.figsize']=5,5\n",
    "ax=sns.boxplot(data=vertical_concat, x=\"RT_mean_binned\", y=\"RT_SD\")\n",
    "plt.xticks(np.arange(0, 14,2))\n",
    "plt.xticks(fontsize=20)\n",
    "plt.yticks(fontsize=23)\n",
    "plt.ylabel('RT SD (min)', fontsize=28)\n",
    "plt.xlabel('Binned Mean RT (min)', fontsize=28)\n",
    "plt.savefig('plots/1G.svg', bbox_inches='tight')"
   ]
  },
  {
   "cell_type": "code",
   "execution_count": 393,
   "id": "e3ad3147-e679-43ae-91f0-bb3734349dd0",
   "metadata": {},
   "outputs": [],
   "source": [
    "p = pd.read_excel(r'C://Users//momenzadeha//Documents/DIA-NN/KDFELNALNAR.xlsx')"
   ]
  },
  {
   "cell_type": "code",
   "execution_count": 562,
   "id": "858b86c6-6396-4e14-8d31-e1a8ddb2a98c",
   "metadata": {},
   "outputs": [
    {
     "data": {
      "image/png": "[encoded data removed]",
      "text/plain": [
       "<Figure size 216x216 with 1 Axes>"
      ]
     },
     "metadata": {
      "needs_background": "light"
     },
     "output_type": "display_data"
    }
   ],
   "source": [
    "# Example extracted ion chromatogram for a random peptide sequence (KDFELNALNAR) \n",
    "plt.rcParams['figure.figsize']=3,3\n",
    "plt.axhline(y = 296757.34375, xmin = 0.43,xmax = 0.56,color = 'black', linestyle = '-',linewidth=4)\n",
    "# x axis values\n",
    "x = p['Retention Time'].to_list()\n",
    "# corresponding y axis values\n",
    "y = p['Intensity'].to_list()\n",
    "  \n",
    "# plotting the points \n",
    "ax=plt.plot(x, y,linewidth=4)\n",
    "  \n",
    "# naming the x axis\n",
    "plt.xlabel('RT (min)',fontsize=22)\n",
    "# naming the y axis\n",
    "plt.ylabel('Relative Intensity',fontsize=20)\n",
    "  \n",
    "# giving a title to my graph\n",
    "\n",
    "plt.xticks(fontsize=20)\n",
    "plt.yticks(fontsize=23)\n",
    "plt.yticks([])\n",
    "plt.title('KDFELNALNAR',fontsize=20)\n",
    "\n",
    "# function to show the plot\n",
    "plt.savefig('plots/1F.svg',bbox_inches='tight')"
   ]
  },
  {
   "cell_type": "markdown",
   "id": "4bf11a4b-26e8-4109-96e5-5fcbbdb3af21",
   "metadata": {},
   "source": [
    "plt.figure(figsize=(7,5))\n",
    "plt.scatter(embedding[:, 0],embedding[:, 1], s=50, c=colormap[categories])\n",
    "\n",
    "plt.gca().set_aspect('equal', 'datalim')\n",
    "plt.title('Unsupervised UMAP Log Before Combat', fontsize=24)\n",
    "plt.xticks(fontsize=20)\n",
    "plt.yticks(fontsize=20)\n",
    "plt.ylabel('UMAP dim 1', fontsize=30)\n",
    "plt.xlabel('UMAP dim 2', fontsize=30)\n",
    "\n",
    "b_patch = mpatches.Patch(color=blue, label='TYPE B')\n",
    "o_patch = mpatches.Patch(color=orange, label='DTAA')\n",
    "g_patch = mpatches.Patch(color=green, label='Control Healthy')\n",
    "r_patch = mpatches.Patch(color=red, label='Control CAD')\n",
    "p_patch = mpatches.Patch(color=purple, label='BDTAA')\n",
    "\n",
    "\n",
    "plt.legend(handles=[b_patch, o_patch, g_patch, r_patch, p_patch], fontsize=15, loc='center left', \n",
    "           bbox_to_anchor=(1, 0.5))\n",
    "\n",
    "plt.show()\n",
    "#plt.savefig(\"umap_precraw.jpg\", dpi=600,  bbox_inches='tight')"
   ]
  },
  {
   "cell_type": "code",
   "execution_count": 398,
   "id": "43da37ef-1446-4113-b016-2cb06e064900",
   "metadata": {},
   "outputs": [],
   "source": [
    "x_list=[]\n",
    "for i in range(0,len(p['Intensity'])):\n",
    "    if y[i]>p['Intensity'].max()/2:\n",
    "       x_list.append(x[i]) "
   ]
  },
  {
   "cell_type": "code",
   "execution_count": 399,
   "id": "d417d75c-db52-457f-a8f1-6cee35677706",
   "metadata": {},
   "outputs": [
    {
     "data": {
      "text/plain": [
       "7.91031312942505"
      ]
     },
     "execution_count": 399,
     "metadata": {},
     "output_type": "execute_result"
    }
   ],
   "source": [
    "np.max(x_list)"
   ]
  },
  {
   "cell_type": "code",
   "execution_count": 400,
   "id": "0051de61-a3dc-4c81-a8b6-03cc720f9c42",
   "metadata": {},
   "outputs": [
    {
     "data": {
      "text/plain": [
       "7.82377099990845"
      ]
     },
     "execution_count": 400,
     "metadata": {},
     "output_type": "execute_result"
    }
   ],
   "source": [
    "np.min(x_list)"
   ]
  },
  {
   "cell_type": "code",
   "execution_count": 401,
   "id": "2a1a0aae-3547-4bf2-a9aa-85d445eff876",
   "metadata": {},
   "outputs": [
    {
     "data": {
      "text/plain": [
       "5.192527770995987"
      ]
     },
     "execution_count": 401,
     "metadata": {},
     "output_type": "execute_result"
    }
   ],
   "source": [
    "#FWHM = 5.2 seconds\n",
    "(np.max(x_list)-np.min(x_list))*60"
   ]
  }
 ],
 "metadata": {
  "kernelspec": {
   "display_name": "Python 3 (ipykernel)",
   "language": "python",
   "name": "python3"
  },
  "language_info": {
   "codemirror_mode": {
    "name": "ipython",
    "version": 3
   },
   "file_extension": ".py",
   "mimetype": "text/x-python",
   "name": "python",
   "nbconvert_exporter": "python",
   "pygments_lexer": "ipython3",
   "version": "3.9.12"
  }
 },
 "nbformat": 4,
 "nbformat_minor": 5
}
